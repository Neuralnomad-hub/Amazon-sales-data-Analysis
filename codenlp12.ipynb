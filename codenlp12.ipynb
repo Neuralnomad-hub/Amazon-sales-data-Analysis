{
 "cells": [
  {
   "cell_type": "markdown",
   "id": "354cdd33",
   "metadata": {},
   "source": [
    "# NLP Project Notebook\n",
    "\n",
    "A detailed walk-through of the NLP workflow in this notebook."
   ]
  },
  {
   "cell_type": "markdown",
   "id": "b0fc8d49",
   "metadata": {},
   "source": [
    "## Table of Contents\n",
    "1. [Introduction](#introduction)\n",
    "2. [Setup](#setup)\n",
    "3. [Data Preprocessing](#data-preprocessing)\n",
    "4. [Model Training](#model-training)\n",
    "5. [Evaluation](#evaluation)\n",
    "6. [Conclusion](#conclusion)\n"
   ]
  },
  {
   "cell_type": "markdown",
   "id": "introduction-cell",
   "metadata": {},
   "source": [
    "## Introduction\n",
    "\n",
    "This section introduces the problem, the dataset, and the overall objectives of the NLP workflow."
   ]
  },
  {
   "cell_type": "markdown",
   "id": "setup-cell",
   "metadata": {},
   "source": [
    "## Setup\n",
    "\n",
    "Importing required libraries and configuring the environment."
   ]
  },
  {
   "cell_type": "code",
   "execution_count": 1,
   "id": "code-setup",
   "metadata": {},
   "outputs": [],
   "source": [
    "import pandas as pd\n",
    "import numpy as np\n",
    "import matplotlib.pyplot as plt\n",
    "import seaborn as sns\n",
    "import nltk\n",
    "import re\n",
    "from sklearn.model_selection import train_test_split\n",
    "from sklearn.feature_extraction.text import CountVectorizer, TfidfVectorizer\n",
    "from sklearn.linear_model import LogisticRegression\n",
    "from sklearn.metrics import classification_report, confusion_matrix"
   ]
  },
  {
   "cell_type": "markdown",
   "id": "data-preprocessing-cell",
   "metadata": {},
   "source": [
    "## Data Preprocessing\n",
    "\n",
    "Loading the dataset, cleaning the text, and preparing features for the model."
   ]
  },
  {
   "cell_type": "code",
   "execution_count": 2,
   "id": "code-data-preprocessing",
   "metadata": {},
   "outputs": [],
   "source": [
    "# Example: Load dataset\n",
    "df = pd.read_csv('data.csv')\n",
    "\n",
    "# Basic text cleaning\n",
    "def clean_text(text):\n",
    "    text = text.lower()\n",
    "    text = re.sub(r'[^a-zA-Z\\s]', '', text)\n",
    "    return text\n",
    "\n",
    "df['cleaned_text'] = df['text'].apply(clean_text)\n",
    "\n",
    "df.head()"
   ]
  },
  {
   "cell_type": "markdown",
   "id": "model-training-cell",
   "metadata": {},
   "source": [
    "## Model Training\n",
    "\n",
    "Splitting the data into training and testing sets, vectorizing the text, and training the model."
   ]
  },
  {
   "cell_type": "code",
   "execution_count": 3,
   "id": "code-model-training",
   "metadata": {},
   "outputs": [],
   "source": [
    "X_train, X_test, y_train, y_test = train_test_split(df['cleaned_text'], df['label'], test_size=0.2, random_state=42)\n",
    "\n",
    "# TF-IDF Vectorization\n",
    "vectorizer = TfidfVectorizer(max_features=5000)\n",
    "X_train_vec = vectorizer.fit_transform(X_train)\n",
    "X_test_vec = vectorizer.transform(X_test)\n",
    "\n",
    "# Logistic Regression Model\n",
    "model = LogisticRegression(max_iter=1000)\n",
    "model.fit(X_train_vec, y_train)"
   ]
  },
  {
   "cell_type": "markdown",
   "id": "evaluation-cell",
   "metadata": {},
   "source": [
    "## Evaluation\n",
    "\n",
    "Evaluating the trained model using classification metrics and a confusion matrix."
   ]
  },
  {
   "cell_type": "code",
   "execution_count": 4,
   "id": "code-evaluation",
   "metadata": {},
   "outputs": [],
   "source": [
    "y_pred = model.predict(X_test_vec)\n",
    "\n",
    "print(classification_report(y_test, y_pred))\n",
    "sns.heatmap(confusion_matrix(y_test, y_pred), annot=True, fmt='d', cmap='Blues')\n",
    "plt.xlabel('Predicted')\n",
    "plt.ylabel('Actual')\n",
    "plt.show()"
   ]
  },
  {
   "cell_type": "markdown",
   "id": "conclusion-cell",
   "metadata": {},
   "source": [
    "## Conclusion\n",
    "\n",
    "In this notebook, we processed text data, trained a logistic regression classifier, and evaluated its performance. Future improvements may include experimenting with other vectorization techniques or advanced models such as transformers."
   ]
  }
 ],
 "metadata": {
  "kernelspec": {
   "display_name": "Python 3",
   "language": "python",
   "name": "python3"
  },
  "language_info": {
   "name": "python",
   "version": "3.9"
  }
 },
 "nbformat": 4,
 "nbformat_minor": 5
}